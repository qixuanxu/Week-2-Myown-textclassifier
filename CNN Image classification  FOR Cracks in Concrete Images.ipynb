{
  "cells": [
    {
      "cell_type": "markdown",
      "metadata": {
        "id": "x4HI2mpwlrcn"
      },
      "source": [
        "# Build a image classifier Classify and detect pictures\n",
        "from a Concrete surface sample images for Surface Crack Detection dataset\n",
        "\n",
        " https://www.kaggle.com/datasets/arunrk7/surface-crack-detection"
      ]
    },
    {
      "cell_type": "markdown",
      "source": [
        "This Notebook is built on the base of Coding-3-Week-2 CNNImageClassifier Notebook.\n",
        "\n",
        "And on the process of building modle ,I referred to a tutorial notebook that uses the Dataframe method to load large amounts of data."
      ],
      "metadata": {
        "id": "YFlwHPw03C8Y"
      }
    },
    {
      "cell_type": "markdown",
      "source": [
        "https://www.kaggle.com/code/gcdatkin/concrete-crack-image-detection/notebook\n"
      ],
      "metadata": {
        "id": "-jc6qmSDjnTf"
      }
    },
    {
      "cell_type": "markdown",
      "source": [
        "  ## Qixuan Xu\n",
        "\n",
        "  MSC Creative Cumpting \n",
        "\n",
        "  Student ID : 20030010\n",
        "\n",
        "---\n",
        "\n",
        "\n",
        "\n",
        "\n",
        "\n",
        "\n"
      ],
      "metadata": {
        "id": "m3qIwZQo5mJf"
      }
    },
    {
      "cell_type": "markdown",
      "metadata": {
        "id": "m7KBpffWzlxH"
      },
      "source": [
        "### Import Libraries\n"
      ]
    },
    {
      "cell_type": "code",
      "source": [
        "import numpy as np\n",
        "import pandas as pd\n",
        "\n",
        "import matplotlib.pyplot as plt\n",
        "import seaborn as sns\n",
        "import plotly.express as px\n",
        "\n",
        "from pathlib import Path\n",
        "from sklearn.model_selection import train_test_split\n",
        "\n",
        "import tensorflow as tf\n",
        "\n",
        "from sklearn.metrics import confusion_matrix, classification_report"
      ],
      "metadata": {
        "id": "by2SSGwWP7Wp"
      },
      "execution_count": 1,
      "outputs": []
    },
    {
      "cell_type": "markdown",
      "source": [
        "### Import Dataset  from  my Google.Colab Drive"
      ],
      "metadata": {
        "id": "YKGbrMJ7TJiq"
      }
    },
    {
      "cell_type": "markdown",
      "source": [
        "**I pre-loaded the data into Google Drive**"
      ],
      "metadata": {
        "id": "-xr2JXHe4KKh"
      }
    },
    {
      "cell_type": "code",
      "source": [
        "from google.colab import drive\n",
        "drive.mount('/content/drive')"
      ],
      "metadata": {
        "colab": {
          "base_uri": "https://localhost:8080/"
        },
        "id": "rabULtpUL8nr",
        "outputId": "38a0b70e-e63f-4b53-ba89-ce21b5e6179e"
      },
      "execution_count": 104,
      "outputs": [
        {
          "output_type": "stream",
          "name": "stdout",
          "text": [
            "Drive already mounted at /content/drive; to attempt to forcibly remount, call drive.mount(\"/content/drive\", force_remount=True).\n"
          ]
        }
      ]
    },
    {
      "cell_type": "code",
      "source": [
        "!ls \"/content/drive/MyDrive/concretedataset\""
      ],
      "metadata": {
        "colab": {
          "base_uri": "https://localhost:8080/"
        },
        "id": "ybTVjOCXL8x6",
        "outputId": "1534e25b-4ca5-49dd-ab80-6309f0b2cf1c"
      },
      "execution_count": 105,
      "outputs": [
        {
          "output_type": "stream",
          "name": "stdout",
          "text": [
            "Negative  Positive\n"
          ]
        }
      ]
    },
    {
      "cell_type": "code",
      "source": [
        "positive_dir = Path('/content/drive/MyDrive/concretedataset/Positive')\n",
        "# negative_dir = Path('../input/surface-crack-detection/Negative')\n",
        "negative_dir = Path('/content/drive/MyDrive/concretedataset/Negative')\n",
        "all_dir = Path('/content/drive/MyDrive/concretedataset')"
      ],
      "metadata": {
        "id": "rZRQVhKYMBpy"
      },
      "execution_count": 106,
      "outputs": []
    },
    {
      "cell_type": "markdown",
      "source": [
        "### Cteate Images Dataframe \n",
        "**（refered to the tutorial notebook）**"
      ],
      "metadata": {
        "id": "lqA-mAzLd4A0"
      }
    },
    {
      "cell_type": "code",
      "source": [
        "def generate_df(image_dir, label):\n",
        "    filepaths = pd.Series(list(image_dir.glob(r'*.jpg')), name='Filepath').astype(str)\n",
        "    labels = pd.Series(label, name='Label', index=filepaths.index)\n",
        "    df = pd.concat([filepaths, labels], axis=1)\n",
        "    return df"
      ],
      "metadata": {
        "id": "Wa9kMRNCdye8"
      },
      "execution_count": 5,
      "outputs": []
    },
    {
      "cell_type": "code",
      "source": [
        "positive_df = generate_df(positive_dir, label=\"POSITIVE\")\n",
        "negative_df = generate_df(negative_dir, label=\"NEGATIVE\")\n",
        "\n",
        "all_df = pd.concat([positive_df, negative_df], axis=0).sample(frac=1.0, random_state=1).reset_index(drop=True)\n",
        "all_df"
      ],
      "metadata": {
        "colab": {
          "base_uri": "https://localhost:8080/",
          "height": 424
        },
        "id": "xKrZZpO0eqYY",
        "outputId": "24d54b1f-51d9-49bd-b68f-092505fda84c"
      },
      "execution_count": 7,
      "outputs": [
        {
          "output_type": "execute_result",
          "data": {
            "text/plain": [
              "                                                Filepath     Label\n",
              "0      /content/drive/MyDrive/concretedataset/Negativ...  NEGATIVE\n",
              "1      /content/drive/MyDrive/concretedataset/Negativ...  NEGATIVE\n",
              "2      /content/drive/MyDrive/concretedataset/Positiv...  POSITIVE\n",
              "3      /content/drive/MyDrive/concretedataset/Positiv...  POSITIVE\n",
              "4      /content/drive/MyDrive/concretedataset/Negativ...  NEGATIVE\n",
              "...                                                  ...       ...\n",
              "40223  /content/drive/MyDrive/concretedataset/Positiv...  POSITIVE\n",
              "40224  /content/drive/MyDrive/concretedataset/Negativ...  NEGATIVE\n",
              "40225  /content/drive/MyDrive/concretedataset/Positiv...  POSITIVE\n",
              "40226  /content/drive/MyDrive/concretedataset/Positiv...  POSITIVE\n",
              "40227  /content/drive/MyDrive/concretedataset/Negativ...  NEGATIVE\n",
              "\n",
              "[40228 rows x 2 columns]"
            ],
            "text/html": [
              "\n",
              "  <div id=\"df-c71c4eb7-4cfd-4852-85a4-4d7d21bf44d6\">\n",
              "    <div class=\"colab-df-container\">\n",
              "      <div>\n",
              "<style scoped>\n",
              "    .dataframe tbody tr th:only-of-type {\n",
              "        vertical-align: middle;\n",
              "    }\n",
              "\n",
              "    .dataframe tbody tr th {\n",
              "        vertical-align: top;\n",
              "    }\n",
              "\n",
              "    .dataframe thead th {\n",
              "        text-align: right;\n",
              "    }\n",
              "</style>\n",
              "<table border=\"1\" class=\"dataframe\">\n",
              "  <thead>\n",
              "    <tr style=\"text-align: right;\">\n",
              "      <th></th>\n",
              "      <th>Filepath</th>\n",
              "      <th>Label</th>\n",
              "    </tr>\n",
              "  </thead>\n",
              "  <tbody>\n",
              "    <tr>\n",
              "      <th>0</th>\n",
              "      <td>/content/drive/MyDrive/concretedataset/Negativ...</td>\n",
              "      <td>NEGATIVE</td>\n",
              "    </tr>\n",
              "    <tr>\n",
              "      <th>1</th>\n",
              "      <td>/content/drive/MyDrive/concretedataset/Negativ...</td>\n",
              "      <td>NEGATIVE</td>\n",
              "    </tr>\n",
              "    <tr>\n",
              "      <th>2</th>\n",
              "      <td>/content/drive/MyDrive/concretedataset/Positiv...</td>\n",
              "      <td>POSITIVE</td>\n",
              "    </tr>\n",
              "    <tr>\n",
              "      <th>3</th>\n",
              "      <td>/content/drive/MyDrive/concretedataset/Positiv...</td>\n",
              "      <td>POSITIVE</td>\n",
              "    </tr>\n",
              "    <tr>\n",
              "      <th>4</th>\n",
              "      <td>/content/drive/MyDrive/concretedataset/Negativ...</td>\n",
              "      <td>NEGATIVE</td>\n",
              "    </tr>\n",
              "    <tr>\n",
              "      <th>...</th>\n",
              "      <td>...</td>\n",
              "      <td>...</td>\n",
              "    </tr>\n",
              "    <tr>\n",
              "      <th>40223</th>\n",
              "      <td>/content/drive/MyDrive/concretedataset/Positiv...</td>\n",
              "      <td>POSITIVE</td>\n",
              "    </tr>\n",
              "    <tr>\n",
              "      <th>40224</th>\n",
              "      <td>/content/drive/MyDrive/concretedataset/Negativ...</td>\n",
              "      <td>NEGATIVE</td>\n",
              "    </tr>\n",
              "    <tr>\n",
              "      <th>40225</th>\n",
              "      <td>/content/drive/MyDrive/concretedataset/Positiv...</td>\n",
              "      <td>POSITIVE</td>\n",
              "    </tr>\n",
              "    <tr>\n",
              "      <th>40226</th>\n",
              "      <td>/content/drive/MyDrive/concretedataset/Positiv...</td>\n",
              "      <td>POSITIVE</td>\n",
              "    </tr>\n",
              "    <tr>\n",
              "      <th>40227</th>\n",
              "      <td>/content/drive/MyDrive/concretedataset/Negativ...</td>\n",
              "      <td>NEGATIVE</td>\n",
              "    </tr>\n",
              "  </tbody>\n",
              "</table>\n",
              "<p>40228 rows × 2 columns</p>\n",
              "</div>\n",
              "      <button class=\"colab-df-convert\" onclick=\"convertToInteractive('df-c71c4eb7-4cfd-4852-85a4-4d7d21bf44d6')\"\n",
              "              title=\"Convert this dataframe to an interactive table.\"\n",
              "              style=\"display:none;\">\n",
              "        \n",
              "  <svg xmlns=\"http://www.w3.org/2000/svg\" height=\"24px\"viewBox=\"0 0 24 24\"\n",
              "       width=\"24px\">\n",
              "    <path d=\"M0 0h24v24H0V0z\" fill=\"none\"/>\n",
              "    <path d=\"M18.56 5.44l.94 2.06.94-2.06 2.06-.94-2.06-.94-.94-2.06-.94 2.06-2.06.94zm-11 1L8.5 8.5l.94-2.06 2.06-.94-2.06-.94L8.5 2.5l-.94 2.06-2.06.94zm10 10l.94 2.06.94-2.06 2.06-.94-2.06-.94-.94-2.06-.94 2.06-2.06.94z\"/><path d=\"M17.41 7.96l-1.37-1.37c-.4-.4-.92-.59-1.43-.59-.52 0-1.04.2-1.43.59L10.3 9.45l-7.72 7.72c-.78.78-.78 2.05 0 2.83L4 21.41c.39.39.9.59 1.41.59.51 0 1.02-.2 1.41-.59l7.78-7.78 2.81-2.81c.8-.78.8-2.07 0-2.86zM5.41 20L4 18.59l7.72-7.72 1.47 1.35L5.41 20z\"/>\n",
              "  </svg>\n",
              "      </button>\n",
              "      \n",
              "  <style>\n",
              "    .colab-df-container {\n",
              "      display:flex;\n",
              "      flex-wrap:wrap;\n",
              "      gap: 12px;\n",
              "    }\n",
              "\n",
              "    .colab-df-convert {\n",
              "      background-color: #E8F0FE;\n",
              "      border: none;\n",
              "      border-radius: 50%;\n",
              "      cursor: pointer;\n",
              "      display: none;\n",
              "      fill: #1967D2;\n",
              "      height: 32px;\n",
              "      padding: 0 0 0 0;\n",
              "      width: 32px;\n",
              "    }\n",
              "\n",
              "    .colab-df-convert:hover {\n",
              "      background-color: #E2EBFA;\n",
              "      box-shadow: 0px 1px 2px rgba(60, 64, 67, 0.3), 0px 1px 3px 1px rgba(60, 64, 67, 0.15);\n",
              "      fill: #174EA6;\n",
              "    }\n",
              "\n",
              "    [theme=dark] .colab-df-convert {\n",
              "      background-color: #3B4455;\n",
              "      fill: #D2E3FC;\n",
              "    }\n",
              "\n",
              "    [theme=dark] .colab-df-convert:hover {\n",
              "      background-color: #434B5C;\n",
              "      box-shadow: 0px 1px 3px 1px rgba(0, 0, 0, 0.15);\n",
              "      filter: drop-shadow(0px 1px 2px rgba(0, 0, 0, 0.3));\n",
              "      fill: #FFFFFF;\n",
              "    }\n",
              "  </style>\n",
              "\n",
              "      <script>\n",
              "        const buttonEl =\n",
              "          document.querySelector('#df-c71c4eb7-4cfd-4852-85a4-4d7d21bf44d6 button.colab-df-convert');\n",
              "        buttonEl.style.display =\n",
              "          google.colab.kernel.accessAllowed ? 'block' : 'none';\n",
              "\n",
              "        async function convertToInteractive(key) {\n",
              "          const element = document.querySelector('#df-c71c4eb7-4cfd-4852-85a4-4d7d21bf44d6');\n",
              "          const dataTable =\n",
              "            await google.colab.kernel.invokeFunction('convertToInteractive',\n",
              "                                                     [key], {});\n",
              "          if (!dataTable) return;\n",
              "\n",
              "          const docLinkHtml = 'Like what you see? Visit the ' +\n",
              "            '<a target=\"_blank\" href=https://colab.research.google.com/notebooks/data_table.ipynb>data table notebook</a>'\n",
              "            + ' to learn more about interactive tables.';\n",
              "          element.innerHTML = '';\n",
              "          dataTable['output_type'] = 'display_data';\n",
              "          await google.colab.output.renderOutput(dataTable, element);\n",
              "          const docLink = document.createElement('div');\n",
              "          docLink.innerHTML = docLinkHtml;\n",
              "          element.appendChild(docLink);\n",
              "        }\n",
              "      </script>\n",
              "    </div>\n",
              "  </div>\n",
              "  "
            ]
          },
          "metadata": {},
          "execution_count": 7
        }
      ]
    },
    {
      "cell_type": "code",
      "source": [
        "train_df, test_df = train_test_split(\n",
        "    all_df.sample(3000, random_state=1),\n",
        "    train_size=0.6,# 0.7\n",
        "    shuffle=True,\n",
        "    random_state=1\n",
        ")"
      ],
      "metadata": {
        "id": "bxLmh-5Adymk"
      },
      "execution_count": 12,
      "outputs": []
    },
    {
      "cell_type": "markdown",
      "source": [
        "### Loading Images by Dataframe \n",
        "**（refered to the tutorial notebook）**\n"
      ],
      "metadata": {
        "id": "_5iXQLGeRURU"
      }
    },
    {
      "cell_type": "code",
      "source": [
        "train_gen = tf.keras.preprocessing.image.ImageDataGenerator(\n",
        "    rescale=1./255,\n",
        "    validation_split=0.2\n",
        ")\n",
        "\n",
        "test_gen = tf.keras.preprocessing.image.ImageDataGenerator(\n",
        "    rescale=1./255 # RGB image data\n",
        ") \n",
        "\n",
        "# Solve memory problems for training large data sets"
      ],
      "metadata": {
        "id": "eAz0G_bDMJ7d"
      },
      "execution_count": 18,
      "outputs": []
    },
    {
      "cell_type": "code",
      "source": [
        "train_data = train_gen.flow_from_dataframe(\n",
        "    train_df,\n",
        "    x_col='Filepath',\n",
        "    y_col='Label',\n",
        "    target_size=(120, 120),\n",
        "    color_mode='rgb',\n",
        "    class_mode='binary',\n",
        "    batch_size=32,\n",
        "    shuffle=True,\n",
        "    seed=42,\n",
        "    subset='training'\n",
        ")\n",
        "\n",
        "val_data = train_gen.flow_from_dataframe(\n",
        "    train_df,\n",
        "    x_col='Filepath',\n",
        "    y_col='Label',\n",
        "    target_size=(120, 120),\n",
        "    color_mode='rgb',\n",
        "    class_mode='binary',\n",
        "    batch_size=32,\n",
        "    shuffle=True,\n",
        "    seed=42,\n",
        "    subset='validation'\n",
        ")\n",
        "\n",
        "test_data = train_gen.flow_from_dataframe(\n",
        "    test_df,\n",
        "    x_col='Filepath',\n",
        "    y_col='Label',\n",
        "    target_size=(120, 120),\n",
        "    color_mode='rgb',\n",
        "    class_mode='binary',\n",
        "    batch_size=32,\n",
        "    shuffle=False,\n",
        "    seed=42\n",
        ")"
      ],
      "metadata": {
        "colab": {
          "base_uri": "https://localhost:8080/"
        },
        "id": "9qcsmBYfLAmO",
        "outputId": "cc8bd5f2-014d-4247-b96b-1cb73a80e507"
      },
      "execution_count": 19,
      "outputs": [
        {
          "output_type": "stream",
          "name": "stdout",
          "text": [
            "Found 1440 validated image filenames belonging to 2 classes.\n",
            "Found 360 validated image filenames belonging to 2 classes.\n",
            "Found 1200 validated image filenames belonging to 2 classes.\n"
          ]
        }
      ]
    },
    {
      "cell_type": "markdown",
      "metadata": {
        "id": "Oewp-wYg31t9"
      },
      "source": [
        "### Create the neural network\n",
        "**(By changing the week-2 Notebook)**"
      ]
    },
    {
      "cell_type": "code",
      "source": [
        "inputs = tf.keras.Input(shape=(120, 120, 3))\n",
        "x = tf.keras.layers.Conv2D(filters=16, kernel_size=(3, 3), activation='relu')(inputs)\n",
        "x = tf.keras.layers.MaxPool2D(pool_size=(2, 2))(x)\n",
        "x = tf.keras.layers.Conv2D(filters=32, kernel_size=(3, 3), activation='relu')(x)\n",
        "x = tf.keras.layers.MaxPool2D(pool_size=(2, 2))(x)\n",
        "x = tf.keras.layers.GlobalAveragePooling2D()(x)\n",
        "outputs = tf.keras.layers.Dense(1, activation='sigmoid')(x)\n",
        "model = tf.keras.Model(inputs=inputs, outputs=outputs)"
      ],
      "metadata": {
        "id": "7FP9MXchN0gG"
      },
      "execution_count": 33,
      "outputs": []
    },
    {
      "cell_type": "markdown",
      "source": [
        "### Compile and train the model\n",
        "**(By changing the week-2 Notebook)**"
      ],
      "metadata": {
        "id": "Hcjkdzro2Wxg"
      }
    },
    {
      "cell_type": "code",
      "execution_count": 34,
      "metadata": {
        "execution": {
          "iopub.execute_input": "2022-01-26T05:11:51.354877Z",
          "iopub.status.busy": "2022-01-26T05:11:51.351479Z",
          "iopub.status.idle": "2022-01-26T05:12:53.567336Z",
          "shell.execute_reply": "2022-01-26T05:12:53.566859Z"
        },
        "id": "MdDzI75PUXrG",
        "colab": {
          "base_uri": "https://localhost:8080/"
        },
        "outputId": "9ca9f2b6-cf7b-4bd9-f769-aa0f6357a7ea"
      },
      "outputs": [
        {
          "output_type": "stream",
          "name": "stdout",
          "text": [
            "Model: \"model_1\"\n",
            "_________________________________________________________________\n",
            " Layer (type)                Output Shape              Param #   \n",
            "=================================================================\n",
            " input_6 (InputLayer)        [(None, 120, 120, 3)]     0         \n",
            "                                                                 \n",
            " conv2d_2 (Conv2D)           (None, 118, 118, 16)      448       \n",
            "                                                                 \n",
            " max_pooling2d_2 (MaxPooling  (None, 59, 59, 16)       0         \n",
            " 2D)                                                             \n",
            "                                                                 \n",
            " conv2d_3 (Conv2D)           (None, 57, 57, 32)        4640      \n",
            "                                                                 \n",
            " max_pooling2d_3 (MaxPooling  (None, 28, 28, 32)       0         \n",
            " 2D)                                                             \n",
            "                                                                 \n",
            " global_average_pooling2d_1   (None, 32)               0         \n",
            " (GlobalAveragePooling2D)                                        \n",
            "                                                                 \n",
            " dense_2 (Dense)             (None, 1)                 33        \n",
            "                                                                 \n",
            "=================================================================\n",
            "Total params: 5,121\n",
            "Trainable params: 5,121\n",
            "Non-trainable params: 0\n",
            "_________________________________________________________________\n",
            "None\n"
          ]
        }
      ],
      "source": [
        "model.compile(optimizer='adam',\n",
        "              loss='binary_crossentropy',\n",
        "              metrics=['accuracy'])\n",
        "\n",
        "print(model.summary())"
      ]
    },
    {
      "cell_type": "code",
      "source": [
        "history = model.fit(train_data,\n",
        "                    epochs=10, \n",
        "                    validation_data=val_data,\n",
        "                    callbacks=[\n",
        "        tf.keras.callbacks.EarlyStopping(\n",
        "            monitor='val_loss',\n",
        "            patience=3,\n",
        "            restore_best_weights=True\n",
        "        )\n",
        "    ]\n",
        "                    )"
      ],
      "metadata": {
        "colab": {
          "base_uri": "https://localhost:8080/"
        },
        "id": "aGxWrCtdO8oZ",
        "outputId": "34df9ab8-ccdd-4354-b9c3-03fb02d1cb73"
      },
      "execution_count": 36,
      "outputs": [
        {
          "output_type": "stream",
          "name": "stdout",
          "text": [
            "Epoch 1/10\n",
            "45/45 [==============================] - 440s 10s/step - loss: 0.6899 - accuracy: 0.5250 - val_loss: 0.6847 - val_accuracy: 0.4917\n",
            "Epoch 2/10\n",
            "45/45 [==============================] - 6s 145ms/step - loss: 0.6757 - accuracy: 0.5736 - val_loss: 0.6524 - val_accuracy: 0.8194\n",
            "Epoch 3/10\n",
            "45/45 [==============================] - 5s 110ms/step - loss: 0.6373 - accuracy: 0.6833 - val_loss: 0.6156 - val_accuracy: 0.8111\n",
            "Epoch 4/10\n",
            "45/45 [==============================] - 5s 110ms/step - loss: 0.6067 - accuracy: 0.7347 - val_loss: 0.5887 - val_accuracy: 0.7028\n",
            "Epoch 5/10\n",
            "45/45 [==============================] - 5s 107ms/step - loss: 0.5619 - accuracy: 0.7646 - val_loss: 0.5390 - val_accuracy: 0.8222\n",
            "Epoch 6/10\n",
            "45/45 [==============================] - 5s 106ms/step - loss: 0.5449 - accuracy: 0.7847 - val_loss: 0.5171 - val_accuracy: 0.8556\n",
            "Epoch 7/10\n",
            "45/45 [==============================] - 5s 106ms/step - loss: 0.4935 - accuracy: 0.8250 - val_loss: 0.4846 - val_accuracy: 0.8889\n",
            "Epoch 8/10\n",
            "45/45 [==============================] - 5s 106ms/step - loss: 0.4541 - accuracy: 0.8632 - val_loss: 0.4391 - val_accuracy: 0.8833\n",
            "Epoch 9/10\n",
            "45/45 [==============================] - 5s 102ms/step - loss: 0.4117 - accuracy: 0.8813 - val_loss: 0.4688 - val_accuracy: 0.8139\n",
            "Epoch 10/10\n",
            "45/45 [==============================] - 4s 100ms/step - loss: 0.3933 - accuracy: 0.8889 - val_loss: 0.3782 - val_accuracy: 0.8917\n"
          ]
        }
      ]
    },
    {
      "cell_type": "markdown",
      "source": [
        "## Result"
      ],
      "metadata": {
        "id": "Gtr9xN3mihbr"
      }
    },
    {
      "cell_type": "markdown",
      "metadata": {
        "id": "jKgyC5K_4O0d"
      },
      "source": [
        "### Plot how accuracy changes over time on the training set and the test (\"validation\") set\n",
        "**(By changing the week-2 Notebook)**"
      ]
    },
    {
      "cell_type": "code",
      "execution_count": 37,
      "metadata": {
        "execution": {
          "iopub.execute_input": "2022-01-26T05:12:53.592360Z",
          "iopub.status.busy": "2022-01-26T05:12:53.591680Z",
          "iopub.status.idle": "2022-01-26T05:12:54.645588Z",
          "shell.execute_reply": "2022-01-26T05:12:54.645130Z"
        },
        "id": "gtyDF0MKUcM7",
        "colab": {
          "base_uri": "https://localhost:8080/",
          "height": 301
        },
        "outputId": "a3940f44-408d-405b-da2b-4cae96451763"
      },
      "outputs": [
        {
          "output_type": "execute_result",
          "data": {
            "text/plain": [
              "<matplotlib.legend.Legend at 0x7fc1360cfe90>"
            ]
          },
          "metadata": {},
          "execution_count": 37
        },
        {
          "output_type": "display_data",
          "data": {
            "text/plain": [
              "<Figure size 432x288 with 1 Axes>"
            ],
            "image/png": "[encoded data removed]"
          },
          "metadata": {
            "needs_background": "light"
          }
        }
      ],
      "source": [
        "plt.plot(history.history['accuracy'], label='training set accuracy')\n",
        "plt.plot(history.history['val_accuracy'], label = 'test set accuracy')\n",
        "plt.xlabel('Epoch')\n",
        "plt.ylabel('Accuracy')\n",
        "plt.ylim([0.5, 1])\n",
        "plt.legend(loc='lower right')"
      ]
    },
    {
      "cell_type": "markdown",
      "source": [
        "### Use code to test a trained model\n",
        "**(By changing the week-2 Notebook)**"
      ],
      "metadata": {
        "id": "1NdxXEqmXaBF"
      }
    },
    {
      "cell_type": "code",
      "execution_count": 38,
      "metadata": {
        "execution": {
          "iopub.execute_input": "2022-01-26T05:12:54.649570Z",
          "iopub.status.busy": "2022-01-26T05:12:54.649014Z",
          "iopub.status.idle": "2022-01-26T05:12:54.651075Z",
          "shell.execute_reply": "2022-01-26T05:12:54.651428Z"
        },
        "id": "0LvwaKhtUdOo",
        "colab": {
          "base_uri": "https://localhost:8080/"
        },
        "outputId": "9b0f8ce6-7bd5-48fa-edd0-ca726b88c905"
      },
      "outputs": [
        {
          "output_type": "stream",
          "name": "stdout",
          "text": [
            "45/45 - 3s - loss: 0.3590 - accuracy: 0.9111 - 3s/epoch - 74ms/step\n",
            "Test accuracy after final epoch is  91.11111164093018\n"
          ]
        }
      ],
      "source": [
        "test_loss, test_acc = model.evaluate(train_data, verbose=2)\n",
        "print(\"Test accuracy after final epoch is \", test_acc*100)"
      ]
    },
    {
      "cell_type": "markdown",
      "source": [
        "### Evaluate modle \n",
        "**（refered to the tutorial notebook）**"
      ],
      "metadata": {
        "id": "OEQsef_LizF7"
      }
    },
    {
      "cell_type": "code",
      "source": [
        "def evaluate_model(model, test_data):\n",
        "    \n",
        "    results = model.evaluate(test_data, verbose=0)\n",
        "    loss = results[0]\n",
        "    acc = results[1]\n",
        "    \n",
        "    print(\"    Test Loss: {:.5f}\".format(loss))\n",
        "    print(\"Test Accuracy: {:.2f}%\".format(acc * 100))\n",
        "    \n",
        "    y_pred = np.squeeze((model.predict(test_data) >= 0.5).astype(np.int))\n",
        "    cm = confusion_matrix(test_data.labels, y_pred)\n",
        "    clr = classification_report(test_data.labels, y_pred, target_names=[\"NEGATIVE\", \"POSITIVE\"])\n",
        "    \n",
        "    plt.figure(figsize=(6, 6))\n",
        "    sns.heatmap(cm, annot=True, fmt='g', vmin=0, cmap='Blues', cbar=False)\n",
        "    plt.xticks(ticks=np.arange(2) + 0.5, labels=[\"NEGATIVE\", \"POSITIVE\"])\n",
        "    plt.yticks(ticks=np.arange(2) + 0.5, labels=[\"NEGATIVE\", \"POSITIVE\"])\n",
        "    plt.xlabel(\"Predicted\")\n",
        "    plt.ylabel(\"Actual\")\n",
        "    plt.title(\"Confusion Matrix\")\n",
        "    plt.show()\n",
        "    \n",
        "    print(\"Classification Report:\\n----------------------\\n\", clr)"
      ],
      "metadata": {
        "id": "TJsF8Qmkitsr"
      },
      "execution_count": 66,
      "outputs": []
    },
    {
      "cell_type": "code",
      "source": [
        "evaluate_model(model, test_data)"
      ],
      "metadata": {
        "colab": {
          "base_uri": "https://localhost:8080/",
          "height": 710
        },
        "id": "cNZJga-Jiur4",
        "outputId": "87d50986-0597-41d8-c8c6-078495aeae66"
      },
      "execution_count": 67,
      "outputs": [
        {
          "output_type": "stream",
          "name": "stdout",
          "text": [
            "    Test Loss: 0.35784\n",
            "Test Accuracy: 90.67%\n"
          ]
        },
        {
          "output_type": "stream",
          "name": "stderr",
          "text": [
            "/usr/local/lib/python3.7/dist-packages/ipykernel_launcher.py:10: DeprecationWarning: `np.int` is a deprecated alias for the builtin `int`. To silence this warning, use `int` by itself. Doing this will not modify any behavior and is safe. When replacing `np.int`, you may wish to use e.g. `np.int64` or `np.int32` to specify the precision. If you wish to review your current use, check the release note link for additional information.\n",
            "Deprecated in NumPy 1.20; for more details and guidance: https://numpy.org/devdocs/release/1.20.0-notes.html#deprecations\n",
            "  # Remove the CWD from sys.path while we load stuff.\n"
          ]
        },
        {
          "output_type": "display_data",
          "data": {
            "text/plain": [
              "<Figure size 432x432 with 1 Axes>"
            ],
            "image/png": "[encoded data removed]"
          },
          "metadata": {
            "needs_background": "light"
          }
        },
        {
          "output_type": "stream",
          "name": "stdout",
          "text": [
            "Classification Report:\n",
            "----------------------\n",
            "               precision    recall  f1-score   support\n",
            "\n",
            "    NEGATIVE       0.90      0.92      0.91       592\n",
            "    POSITIVE       0.92      0.90      0.91       608\n",
            "\n",
            "    accuracy                           0.91      1200\n",
            "   macro avg       0.91      0.91      0.91      1200\n",
            "weighted avg       0.91      0.91      0.91      1200\n",
            "\n"
          ]
        }
      ]
    }
  ],
  "metadata": {
    "accelerator": "GPU",
    "colab": {
      "collapsed_sections": [],
      "name": "CNNImageClassifier 2.ipynb",
      "provenance": []
    },
    "kernelspec": {
      "display_name": "Python 3",
      "language": "python",
      "name": "python3"
    },
    "language_info": {
      "codemirror_mode": {
        "name": "ipython",
        "version": 3
      },
      "file_extension": ".py",
      "mimetype": "text/x-python",
      "name": "python",
      "nbconvert_exporter": "python",
      "pygments_lexer": "ipython3",
      "version": "3.8.13"
    }
  },
  "nbformat": 4,
  "nbformat_minor": 0
}